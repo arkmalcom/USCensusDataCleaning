{
 "cells": [
  {
   "cell_type": "markdown",
   "id": "d23e8f25",
   "metadata": {},
   "source": [
    "# US Census Data Cleaning\n",
    "\n",
    "#### In this project, we'll be looking through US Census Data stored across 10 CSV files. This data will be cleaned by removing any duplicate values, completing any missing data, separating columns when they need to be, and organizing the data in a way that makes it easier to represent visually."
   ]
  },
  {
   "cell_type": "code",
   "execution_count": 1,
   "id": "3c375647",
   "metadata": {},
   "outputs": [],
   "source": [
    "import pandas as pd\n",
    "import numpy as np\n",
    "import matplotlib.pyplot as plt\n",
    "import glob"
   ]
  },
  {
   "cell_type": "markdown",
   "id": "14aa4ad8",
   "metadata": {},
   "source": [
    "We'll begin by importing the necessary libraries for the project. Note that because the data is scattered across ten files, `glob` is being used to make the process of opening and putting those files into a dataframe a lot easier."
   ]
  },
  {
   "cell_type": "markdown",
   "id": "2b232944",
   "metadata": {},
   "source": [
    "## Compiling necessary data"
   ]
  },
  {
   "cell_type": "code",
   "execution_count": 2,
   "id": "d57103a3",
   "metadata": {},
   "outputs": [],
   "source": [
    "census_files = glob.glob(\"states*.csv\")\n",
    "census_data = []\n",
    "for census_file in census_files:\n",
    "  file_content = pd.read_csv(census_file)\n",
    "  file_df = pd.DataFrame(file_content)\n",
    "  census_data.append(file_df)\n",
    "us_census = pd.concat(census_data).reset_index(drop=True)"
   ]
  },
  {
   "cell_type": "markdown",
   "id": "21ec4fa2",
   "metadata": {},
   "source": [
    "Here, `glob()` will open files `states0.csv` through `states9.csv` and for each file in that list, the a DataFrame with its contents is created, which is then appended to a list of DataFrames: `census_data`. Finally, the variable `us_census` contains a concatenation of all these DataFrames to form one large set of data we can visually more easily. `reset_index()` is being called because each DataFrame that's being concatenated has its own index from 0-5, thus, the index would end up repeating for each file, restarting back at 0 after 5 over and over. "
   ]
  },
  {
   "cell_type": "markdown",
   "id": "1c9e4ed7",
   "metadata": {},
   "source": [
    "## Initial presentation of the data"
   ]
  },
  {
   "cell_type": "code",
   "execution_count": 3,
   "id": "0b93aee6",
   "metadata": {
    "scrolled": true
   },
   "outputs": [
    {
     "data": {
      "text/html": [
       "<div>\n",
       "<style scoped>\n",
       "    .dataframe tbody tr th:only-of-type {\n",
       "        vertical-align: middle;\n",
       "    }\n",
       "\n",
       "    .dataframe tbody tr th {\n",
       "        vertical-align: top;\n",
       "    }\n",
       "\n",
       "    .dataframe thead th {\n",
       "        text-align: right;\n",
       "    }\n",
       "</style>\n",
       "<table border=\"1\" class=\"dataframe\">\n",
       "  <thead>\n",
       "    <tr style=\"text-align: right;\">\n",
       "      <th></th>\n",
       "      <th>Unnamed: 0</th>\n",
       "      <th>State</th>\n",
       "      <th>TotalPop</th>\n",
       "      <th>Hispanic</th>\n",
       "      <th>White</th>\n",
       "      <th>Black</th>\n",
       "      <th>Native</th>\n",
       "      <th>Asian</th>\n",
       "      <th>Pacific</th>\n",
       "      <th>Income</th>\n",
       "      <th>GenderPop</th>\n",
       "    </tr>\n",
       "  </thead>\n",
       "  <tbody>\n",
       "    <tr>\n",
       "      <th>0</th>\n",
       "      <td>0</td>\n",
       "      <td>Alabama</td>\n",
       "      <td>4830620</td>\n",
       "      <td>3.7516156462584975%</td>\n",
       "      <td>61.878656462585%</td>\n",
       "      <td>31.25297619047618%</td>\n",
       "      <td>0.4532312925170065%</td>\n",
       "      <td>1.0502551020408146%</td>\n",
       "      <td>0.03435374149659865%</td>\n",
       "      <td>$43296.35860306644</td>\n",
       "      <td>2341093M_2489527F</td>\n",
       "    </tr>\n",
       "    <tr>\n",
       "      <th>1</th>\n",
       "      <td>1</td>\n",
       "      <td>Alaska</td>\n",
       "      <td>733375</td>\n",
       "      <td>5.909580838323351%</td>\n",
       "      <td>60.910179640718574%</td>\n",
       "      <td>2.8485029940119775%</td>\n",
       "      <td>16.39101796407186%</td>\n",
       "      <td>5.450299401197604%</td>\n",
       "      <td>1.0586826347305378%</td>\n",
       "      <td>$70354.74390243902</td>\n",
       "      <td>384160M_349215F</td>\n",
       "    </tr>\n",
       "    <tr>\n",
       "      <th>2</th>\n",
       "      <td>2</td>\n",
       "      <td>Arizona</td>\n",
       "      <td>6641928</td>\n",
       "      <td>29.565921052631502%</td>\n",
       "      <td>57.120000000000026%</td>\n",
       "      <td>3.8509868421052658%</td>\n",
       "      <td>4.35506578947368%</td>\n",
       "      <td>2.876578947368419%</td>\n",
       "      <td>0.16763157894736833%</td>\n",
       "      <td>$54207.82095490716</td>\n",
       "      <td>3299088M_3342840F</td>\n",
       "    </tr>\n",
       "    <tr>\n",
       "      <th>3</th>\n",
       "      <td>3</td>\n",
       "      <td>Arkansas</td>\n",
       "      <td>2958208</td>\n",
       "      <td>6.215474452554738%</td>\n",
       "      <td>71.13781021897813%</td>\n",
       "      <td>18.968759124087573%</td>\n",
       "      <td>0.5229197080291965%</td>\n",
       "      <td>1.1423357664233578%</td>\n",
       "      <td>0.14686131386861315%</td>\n",
       "      <td>$41935.63396778917</td>\n",
       "      <td>1451913M_1506295F</td>\n",
       "    </tr>\n",
       "    <tr>\n",
       "      <th>4</th>\n",
       "      <td>4</td>\n",
       "      <td>California</td>\n",
       "      <td>38421464</td>\n",
       "      <td>37.291874687968054%</td>\n",
       "      <td>40.21578881677474%</td>\n",
       "      <td>5.677396405391911%</td>\n",
       "      <td>0.40529206190713685%</td>\n",
       "      <td>13.052234148776776%</td>\n",
       "      <td>0.35141038442336353%</td>\n",
       "      <td>$67264.78230266465</td>\n",
       "      <td>19087135M_19334329F</td>\n",
       "    </tr>\n",
       "  </tbody>\n",
       "</table>\n",
       "</div>"
      ],
      "text/plain": [
       "   Unnamed: 0       State  TotalPop             Hispanic                White  \\\n",
       "0           0     Alabama   4830620  3.7516156462584975%     61.878656462585%   \n",
       "1           1      Alaska    733375   5.909580838323351%  60.910179640718574%   \n",
       "2           2     Arizona   6641928  29.565921052631502%  57.120000000000026%   \n",
       "3           3    Arkansas   2958208   6.215474452554738%   71.13781021897813%   \n",
       "4           4  California  38421464  37.291874687968054%   40.21578881677474%   \n",
       "\n",
       "                 Black                Native                Asian  \\\n",
       "0   31.25297619047618%   0.4532312925170065%  1.0502551020408146%   \n",
       "1  2.8485029940119775%    16.39101796407186%   5.450299401197604%   \n",
       "2  3.8509868421052658%     4.35506578947368%   2.876578947368419%   \n",
       "3  18.968759124087573%   0.5229197080291965%  1.1423357664233578%   \n",
       "4   5.677396405391911%  0.40529206190713685%  13.052234148776776%   \n",
       "\n",
       "                Pacific              Income            GenderPop  \n",
       "0  0.03435374149659865%  $43296.35860306644    2341093M_2489527F  \n",
       "1   1.0586826347305378%  $70354.74390243902      384160M_349215F  \n",
       "2  0.16763157894736833%  $54207.82095490716    3299088M_3342840F  \n",
       "3  0.14686131386861315%  $41935.63396778917    1451913M_1506295F  \n",
       "4  0.35141038442336353%  $67264.78230266465  19087135M_19334329F  "
      ]
     },
     "execution_count": 3,
     "metadata": {},
     "output_type": "execute_result"
    }
   ],
   "source": [
    "us_census.head()"
   ]
  },
  {
   "cell_type": "code",
   "execution_count": 4,
   "id": "a9d1e212",
   "metadata": {},
   "outputs": [
    {
     "data": {
      "text/plain": [
       "Unnamed: 0     int64\n",
       "State         object\n",
       "TotalPop       int64\n",
       "Hispanic      object\n",
       "White         object\n",
       "Black         object\n",
       "Native        object\n",
       "Asian         object\n",
       "Pacific       object\n",
       "Income        object\n",
       "GenderPop     object\n",
       "dtype: object"
      ]
     },
     "execution_count": 4,
     "metadata": {},
     "output_type": "execute_result"
    }
   ],
   "source": [
    "us_census.dtypes"
   ]
  },
  {
   "cell_type": "markdown",
   "id": "eba30207",
   "metadata": {},
   "source": [
    "There's a few things that can be noticed right away and at least one small change that can be made before cleaning any data. Some observations of the basic data:\n",
    "- Race breakdown contains a percent sign that can be removed to create numeric values (currently object type)\n",
    "- Income contains a dollar sign that can be removed to create numeric values (currently object type)\n",
    "- Gender population data is all on one column, can be separated and then further clean to create a numeric value\n",
    "- Extra column 'Unnamed: 0' which serves no real purpose after resetting the index earlier."
   ]
  },
  {
   "cell_type": "code",
   "execution_count": 5,
   "id": "fe0f90e9",
   "metadata": {},
   "outputs": [
    {
     "data": {
      "text/html": [
       "<div>\n",
       "<style scoped>\n",
       "    .dataframe tbody tr th:only-of-type {\n",
       "        vertical-align: middle;\n",
       "    }\n",
       "\n",
       "    .dataframe tbody tr th {\n",
       "        vertical-align: top;\n",
       "    }\n",
       "\n",
       "    .dataframe thead th {\n",
       "        text-align: right;\n",
       "    }\n",
       "</style>\n",
       "<table border=\"1\" class=\"dataframe\">\n",
       "  <thead>\n",
       "    <tr style=\"text-align: right;\">\n",
       "      <th></th>\n",
       "      <th>State</th>\n",
       "      <th>TotalPop</th>\n",
       "      <th>Hispanic</th>\n",
       "      <th>White</th>\n",
       "      <th>Black</th>\n",
       "      <th>Native</th>\n",
       "      <th>Asian</th>\n",
       "      <th>Pacific</th>\n",
       "      <th>Income</th>\n",
       "      <th>GenderPop</th>\n",
       "    </tr>\n",
       "  </thead>\n",
       "  <tbody>\n",
       "    <tr>\n",
       "      <th>0</th>\n",
       "      <td>Alabama</td>\n",
       "      <td>4830620</td>\n",
       "      <td>3.7516156462584975%</td>\n",
       "      <td>61.878656462585%</td>\n",
       "      <td>31.25297619047618%</td>\n",
       "      <td>0.4532312925170065%</td>\n",
       "      <td>1.0502551020408146%</td>\n",
       "      <td>0.03435374149659865%</td>\n",
       "      <td>$43296.35860306644</td>\n",
       "      <td>2341093M_2489527F</td>\n",
       "    </tr>\n",
       "    <tr>\n",
       "      <th>1</th>\n",
       "      <td>Alaska</td>\n",
       "      <td>733375</td>\n",
       "      <td>5.909580838323351%</td>\n",
       "      <td>60.910179640718574%</td>\n",
       "      <td>2.8485029940119775%</td>\n",
       "      <td>16.39101796407186%</td>\n",
       "      <td>5.450299401197604%</td>\n",
       "      <td>1.0586826347305378%</td>\n",
       "      <td>$70354.74390243902</td>\n",
       "      <td>384160M_349215F</td>\n",
       "    </tr>\n",
       "    <tr>\n",
       "      <th>2</th>\n",
       "      <td>Arizona</td>\n",
       "      <td>6641928</td>\n",
       "      <td>29.565921052631502%</td>\n",
       "      <td>57.120000000000026%</td>\n",
       "      <td>3.8509868421052658%</td>\n",
       "      <td>4.35506578947368%</td>\n",
       "      <td>2.876578947368419%</td>\n",
       "      <td>0.16763157894736833%</td>\n",
       "      <td>$54207.82095490716</td>\n",
       "      <td>3299088M_3342840F</td>\n",
       "    </tr>\n",
       "    <tr>\n",
       "      <th>3</th>\n",
       "      <td>Arkansas</td>\n",
       "      <td>2958208</td>\n",
       "      <td>6.215474452554738%</td>\n",
       "      <td>71.13781021897813%</td>\n",
       "      <td>18.968759124087573%</td>\n",
       "      <td>0.5229197080291965%</td>\n",
       "      <td>1.1423357664233578%</td>\n",
       "      <td>0.14686131386861315%</td>\n",
       "      <td>$41935.63396778917</td>\n",
       "      <td>1451913M_1506295F</td>\n",
       "    </tr>\n",
       "    <tr>\n",
       "      <th>4</th>\n",
       "      <td>California</td>\n",
       "      <td>38421464</td>\n",
       "      <td>37.291874687968054%</td>\n",
       "      <td>40.21578881677474%</td>\n",
       "      <td>5.677396405391911%</td>\n",
       "      <td>0.40529206190713685%</td>\n",
       "      <td>13.052234148776776%</td>\n",
       "      <td>0.35141038442336353%</td>\n",
       "      <td>$67264.78230266465</td>\n",
       "      <td>19087135M_19334329F</td>\n",
       "    </tr>\n",
       "  </tbody>\n",
       "</table>\n",
       "</div>"
      ],
      "text/plain": [
       "        State  TotalPop             Hispanic                White  \\\n",
       "0     Alabama   4830620  3.7516156462584975%     61.878656462585%   \n",
       "1      Alaska    733375   5.909580838323351%  60.910179640718574%   \n",
       "2     Arizona   6641928  29.565921052631502%  57.120000000000026%   \n",
       "3    Arkansas   2958208   6.215474452554738%   71.13781021897813%   \n",
       "4  California  38421464  37.291874687968054%   40.21578881677474%   \n",
       "\n",
       "                 Black                Native                Asian  \\\n",
       "0   31.25297619047618%   0.4532312925170065%  1.0502551020408146%   \n",
       "1  2.8485029940119775%    16.39101796407186%   5.450299401197604%   \n",
       "2  3.8509868421052658%     4.35506578947368%   2.876578947368419%   \n",
       "3  18.968759124087573%   0.5229197080291965%  1.1423357664233578%   \n",
       "4   5.677396405391911%  0.40529206190713685%  13.052234148776776%   \n",
       "\n",
       "                Pacific              Income            GenderPop  \n",
       "0  0.03435374149659865%  $43296.35860306644    2341093M_2489527F  \n",
       "1   1.0586826347305378%  $70354.74390243902      384160M_349215F  \n",
       "2  0.16763157894736833%  $54207.82095490716    3299088M_3342840F  \n",
       "3  0.14686131386861315%  $41935.63396778917    1451913M_1506295F  \n",
       "4  0.35141038442336353%  $67264.78230266465  19087135M_19334329F  "
      ]
     },
     "execution_count": 5,
     "metadata": {},
     "output_type": "execute_result"
    }
   ],
   "source": [
    "us_census.pop('Unnamed: 0').reset_index()\n",
    "us_census.head()"
   ]
  },
  {
   "cell_type": "code",
   "execution_count": null,
   "id": "91eda8a4",
   "metadata": {},
   "outputs": [],
   "source": []
  },
  {
   "cell_type": "markdown",
   "id": "7a9cba5e",
   "metadata": {},
   "source": [
    "The last item on our list happens to be the easiest one, so we'll start with that. We'll renamed the unnamed column to **ID** and then set it as our index. "
   ]
  },
  {
   "cell_type": "markdown",
   "id": "4b3ac3a6",
   "metadata": {},
   "source": [
    "## Cleaning gender and income data\n",
    "\n",
    "We'll be using this data to create a scatterplot showing average income vs. proportion of women per state. Getting a numeric value out of the income column is fairly straightforward and can be done using a little regex. We'll also use `to_numeric` to convert the column into a numeric value."
   ]
  },
  {
   "cell_type": "code",
   "execution_count": 6,
   "id": "502a5a68",
   "metadata": {},
   "outputs": [],
   "source": [
    "us_census['Income'] = pd.to_numeric(us_census['Income'].str.replace('[\\$]', '', regex=True))"
   ]
  },
  {
   "cell_type": "markdown",
   "id": "f73f5a11",
   "metadata": {},
   "source": [
    "With that done, we can now work on separating the GenderPop column into two columns, one male and one female. ``%%capture`` is being used to suppress the output generated by `us_census.pop('GenderPop)`. We'll look at the table and the data types in a moment anyway to confirm."
   ]
  },
  {
   "cell_type": "code",
   "execution_count": 7,
   "id": "8f0818cb",
   "metadata": {},
   "outputs": [],
   "source": [
    "%%capture\n",
    "split_genderpop = us_census['GenderPop'].str.split('_', expand=True)\n",
    "us_census['MalePop'] = split_genderpop.get(0)\n",
    "us_census['FemalePop'] = split_genderpop.get(1)\n",
    "us_census.pop('GenderPop')"
   ]
  },
  {
   "cell_type": "markdown",
   "id": "a7a678b7",
   "metadata": {},
   "source": [
    "With the original **GenderPop** column removed and two new columns created (**MalePop** and **FemalePop**) we can once again use a little regex to remove the **M** and **F** from the values, then convert them into numeric values. Regex is not necessary, as slicing the string using a negative index can also accomplish this task."
   ]
  },
  {
   "cell_type": "code",
   "execution_count": 8,
   "id": "0c78fa42",
   "metadata": {},
   "outputs": [],
   "source": [
    "us_census['MalePop'] = pd.to_numeric(us_census['MalePop'].str.replace('[\\w*]$', '', regex=True))\n",
    "us_census['FemalePop'] = pd.to_numeric(us_census['FemalePop'].str.replace('[\\w*]$', '', regex=True))"
   ]
  },
  {
   "cell_type": "markdown",
   "id": "f3ab5fdb",
   "metadata": {},
   "source": [
    "Let's visualize our data again and check our data types. We don't need to view *all* the data, so we'll simply call the columns we want to see. "
   ]
  },
  {
   "cell_type": "code",
   "execution_count": 9,
   "id": "e456ca34",
   "metadata": {},
   "outputs": [
    {
     "data": {
      "text/html": [
       "<div>\n",
       "<style scoped>\n",
       "    .dataframe tbody tr th:only-of-type {\n",
       "        vertical-align: middle;\n",
       "    }\n",
       "\n",
       "    .dataframe tbody tr th {\n",
       "        vertical-align: top;\n",
       "    }\n",
       "\n",
       "    .dataframe thead th {\n",
       "        text-align: right;\n",
       "    }\n",
       "</style>\n",
       "<table border=\"1\" class=\"dataframe\">\n",
       "  <thead>\n",
       "    <tr style=\"text-align: right;\">\n",
       "      <th></th>\n",
       "      <th>State</th>\n",
       "      <th>TotalPop</th>\n",
       "      <th>Income</th>\n",
       "      <th>MalePop</th>\n",
       "      <th>FemalePop</th>\n",
       "    </tr>\n",
       "  </thead>\n",
       "  <tbody>\n",
       "    <tr>\n",
       "      <th>0</th>\n",
       "      <td>Alabama</td>\n",
       "      <td>4830620</td>\n",
       "      <td>43296.358603</td>\n",
       "      <td>2341093</td>\n",
       "      <td>2489527.0</td>\n",
       "    </tr>\n",
       "    <tr>\n",
       "      <th>1</th>\n",
       "      <td>Alaska</td>\n",
       "      <td>733375</td>\n",
       "      <td>70354.743902</td>\n",
       "      <td>384160</td>\n",
       "      <td>349215.0</td>\n",
       "    </tr>\n",
       "    <tr>\n",
       "      <th>2</th>\n",
       "      <td>Arizona</td>\n",
       "      <td>6641928</td>\n",
       "      <td>54207.820955</td>\n",
       "      <td>3299088</td>\n",
       "      <td>3342840.0</td>\n",
       "    </tr>\n",
       "    <tr>\n",
       "      <th>3</th>\n",
       "      <td>Arkansas</td>\n",
       "      <td>2958208</td>\n",
       "      <td>41935.633968</td>\n",
       "      <td>1451913</td>\n",
       "      <td>1506295.0</td>\n",
       "    </tr>\n",
       "    <tr>\n",
       "      <th>4</th>\n",
       "      <td>California</td>\n",
       "      <td>38421464</td>\n",
       "      <td>67264.782303</td>\n",
       "      <td>19087135</td>\n",
       "      <td>19334329.0</td>\n",
       "    </tr>\n",
       "  </tbody>\n",
       "</table>\n",
       "</div>"
      ],
      "text/plain": [
       "        State  TotalPop        Income   MalePop   FemalePop\n",
       "0     Alabama   4830620  43296.358603   2341093   2489527.0\n",
       "1      Alaska    733375  70354.743902    384160    349215.0\n",
       "2     Arizona   6641928  54207.820955   3299088   3342840.0\n",
       "3    Arkansas   2958208  41935.633968   1451913   1506295.0\n",
       "4  California  38421464  67264.782303  19087135  19334329.0"
      ]
     },
     "execution_count": 9,
     "metadata": {},
     "output_type": "execute_result"
    }
   ],
   "source": [
    "us_census[['State', 'TotalPop', 'Income', 'MalePop', 'FemalePop']].head()"
   ]
  },
  {
   "cell_type": "code",
   "execution_count": 10,
   "id": "e2282921",
   "metadata": {},
   "outputs": [
    {
     "data": {
      "text/plain": [
       "State         object\n",
       "TotalPop       int64\n",
       "Hispanic      object\n",
       "White         object\n",
       "Black         object\n",
       "Native        object\n",
       "Asian         object\n",
       "Pacific       object\n",
       "Income       float64\n",
       "MalePop        int64\n",
       "FemalePop    float64\n",
       "dtype: object"
      ]
     },
     "execution_count": 10,
     "metadata": {},
     "output_type": "execute_result"
    }
   ],
   "source": [
    "us_census.dtypes"
   ]
  },
  {
   "cell_type": "markdown",
   "id": "0a0da104",
   "metadata": {},
   "source": [
    "**Income** is now properly a `float` and **MalePop** is an `int` but we notice that **FemalePop** is also a `float`. This is because some values could not be converted to integers, which would indicate that this column contains `NaN` or `null` values. Let's verify that, and let's also make sure there aren't any `null` values in **MalePop**"
   ]
  },
  {
   "cell_type": "code",
   "execution_count": 11,
   "id": "7701c4d8",
   "metadata": {},
   "outputs": [
    {
     "name": "stdout",
     "output_type": "stream",
     "text": [
      "False    57\n",
      "True      3\n",
      "Name: FemalePop, dtype: int64\n",
      "False    60\n",
      "Name: MalePop, dtype: int64\n"
     ]
    }
   ],
   "source": [
    "print(us_census['FemalePop'].isnull().value_counts())\n",
    "print(us_census['MalePop'].isnull().value_counts())"
   ]
  },
  {
   "cell_type": "markdown",
   "id": "94bd1763",
   "metadata": {},
   "source": [
    "We can see that `isnull().value_counts()` returns `True` for 3 rows in **FemalePop**. That means we have 3 rows where the female population data is `null`. Not a problem! We see that **MalePop** does not have any rows with `null` values, and since we also have a column that includes **TotalPop**, we can simply subtract our male population from our total population to obtain the missing values."
   ]
  },
  {
   "cell_type": "code",
   "execution_count": 12,
   "id": "9a7ef97b",
   "metadata": {},
   "outputs": [],
   "source": [
    "us_census.fillna(value={'FemalePop': us_census['TotalPop'] - us_census['MalePop']}, inplace=True)"
   ]
  },
  {
   "cell_type": "markdown",
   "id": "ab2480b8",
   "metadata": {},
   "source": [
    "Let's doublecheck for `null` values in **FemalePop**"
   ]
  },
  {
   "cell_type": "code",
   "execution_count": 13,
   "id": "795b2319",
   "metadata": {},
   "outputs": [
    {
     "data": {
      "text/plain": [
       "False    60\n",
       "Name: FemalePop, dtype: int64"
      ]
     },
     "execution_count": 13,
     "metadata": {},
     "output_type": "execute_result"
    }
   ],
   "source": [
    "us_census['FemalePop'].isnull().value_counts()"
   ]
  },
  {
   "cell_type": "markdown",
   "id": "06f371d5",
   "metadata": {},
   "source": [
    "Perfect! And because consistency is a beautiful thing, let's take this opportunity to change that column to integer instead of float."
   ]
  },
  {
   "cell_type": "code",
   "execution_count": 14,
   "id": "aef0f141",
   "metadata": {},
   "outputs": [],
   "source": [
    "us_census['FemalePop'] = us_census['FemalePop'].astype(int)"
   ]
  },
  {
   "cell_type": "code",
   "execution_count": 15,
   "id": "2f5bc77c",
   "metadata": {},
   "outputs": [
    {
     "data": {
      "text/html": [
       "<div>\n",
       "<style scoped>\n",
       "    .dataframe tbody tr th:only-of-type {\n",
       "        vertical-align: middle;\n",
       "    }\n",
       "\n",
       "    .dataframe tbody tr th {\n",
       "        vertical-align: top;\n",
       "    }\n",
       "\n",
       "    .dataframe thead th {\n",
       "        text-align: right;\n",
       "    }\n",
       "</style>\n",
       "<table border=\"1\" class=\"dataframe\">\n",
       "  <thead>\n",
       "    <tr style=\"text-align: right;\">\n",
       "      <th></th>\n",
       "      <th>State</th>\n",
       "      <th>TotalPop</th>\n",
       "      <th>Income</th>\n",
       "      <th>MalePop</th>\n",
       "      <th>FemalePop</th>\n",
       "    </tr>\n",
       "  </thead>\n",
       "  <tbody>\n",
       "    <tr>\n",
       "      <th>0</th>\n",
       "      <td>Alabama</td>\n",
       "      <td>4830620</td>\n",
       "      <td>43296.358603</td>\n",
       "      <td>2341093</td>\n",
       "      <td>2489527</td>\n",
       "    </tr>\n",
       "    <tr>\n",
       "      <th>1</th>\n",
       "      <td>Alaska</td>\n",
       "      <td>733375</td>\n",
       "      <td>70354.743902</td>\n",
       "      <td>384160</td>\n",
       "      <td>349215</td>\n",
       "    </tr>\n",
       "    <tr>\n",
       "      <th>2</th>\n",
       "      <td>Arizona</td>\n",
       "      <td>6641928</td>\n",
       "      <td>54207.820955</td>\n",
       "      <td>3299088</td>\n",
       "      <td>3342840</td>\n",
       "    </tr>\n",
       "    <tr>\n",
       "      <th>3</th>\n",
       "      <td>Arkansas</td>\n",
       "      <td>2958208</td>\n",
       "      <td>41935.633968</td>\n",
       "      <td>1451913</td>\n",
       "      <td>1506295</td>\n",
       "    </tr>\n",
       "    <tr>\n",
       "      <th>4</th>\n",
       "      <td>California</td>\n",
       "      <td>38421464</td>\n",
       "      <td>67264.782303</td>\n",
       "      <td>19087135</td>\n",
       "      <td>19334329</td>\n",
       "    </tr>\n",
       "    <tr>\n",
       "      <th>5</th>\n",
       "      <td>Colorado</td>\n",
       "      <td>5278906</td>\n",
       "      <td>64657.801787</td>\n",
       "      <td>2648667</td>\n",
       "      <td>2630239</td>\n",
       "    </tr>\n",
       "    <tr>\n",
       "      <th>6</th>\n",
       "      <td>Colorado</td>\n",
       "      <td>5278906</td>\n",
       "      <td>64657.801787</td>\n",
       "      <td>2648667</td>\n",
       "      <td>2630239</td>\n",
       "    </tr>\n",
       "    <tr>\n",
       "      <th>7</th>\n",
       "      <td>Connecticut</td>\n",
       "      <td>3593222</td>\n",
       "      <td>76146.560588</td>\n",
       "      <td>1751607</td>\n",
       "      <td>1841615</td>\n",
       "    </tr>\n",
       "    <tr>\n",
       "      <th>8</th>\n",
       "      <td>Delaware</td>\n",
       "      <td>926454</td>\n",
       "      <td>61827.976636</td>\n",
       "      <td>448413</td>\n",
       "      <td>478041</td>\n",
       "    </tr>\n",
       "    <tr>\n",
       "      <th>9</th>\n",
       "      <td>District of Columbia</td>\n",
       "      <td>647484</td>\n",
       "      <td>75466.363636</td>\n",
       "      <td>306674</td>\n",
       "      <td>340810</td>\n",
       "    </tr>\n",
       "  </tbody>\n",
       "</table>\n",
       "</div>"
      ],
      "text/plain": [
       "                  State  TotalPop        Income   MalePop  FemalePop\n",
       "0               Alabama   4830620  43296.358603   2341093    2489527\n",
       "1                Alaska    733375  70354.743902    384160     349215\n",
       "2               Arizona   6641928  54207.820955   3299088    3342840\n",
       "3              Arkansas   2958208  41935.633968   1451913    1506295\n",
       "4            California  38421464  67264.782303  19087135   19334329\n",
       "5              Colorado   5278906  64657.801787   2648667    2630239\n",
       "6              Colorado   5278906  64657.801787   2648667    2630239\n",
       "7           Connecticut   3593222  76146.560588   1751607    1841615\n",
       "8              Delaware    926454  61827.976636    448413     478041\n",
       "9  District of Columbia    647484  75466.363636    306674     340810"
      ]
     },
     "execution_count": 15,
     "metadata": {},
     "output_type": "execute_result"
    }
   ],
   "source": [
    "us_census[['State', 'TotalPop', 'Income', 'MalePop', 'FemalePop']].head(10)"
   ]
  },
  {
   "cell_type": "markdown",
   "id": "8ad4503c",
   "metadata": {},
   "source": [
    "Our data is now clean, in the correct format, and there are no `null` values. There's still a problem, however. We can see in index 5 and 6 that there is an obvious duplicate value. There's potentially other duplicates somewhere in there, so let's `drop_duplicates()` and `reset_index()` once more."
   ]
  },
  {
   "cell_type": "code",
   "execution_count": 16,
   "id": "7335f80c",
   "metadata": {},
   "outputs": [
    {
     "data": {
      "text/html": [
       "<div>\n",
       "<style scoped>\n",
       "    .dataframe tbody tr th:only-of-type {\n",
       "        vertical-align: middle;\n",
       "    }\n",
       "\n",
       "    .dataframe tbody tr th {\n",
       "        vertical-align: top;\n",
       "    }\n",
       "\n",
       "    .dataframe thead th {\n",
       "        text-align: right;\n",
       "    }\n",
       "</style>\n",
       "<table border=\"1\" class=\"dataframe\">\n",
       "  <thead>\n",
       "    <tr style=\"text-align: right;\">\n",
       "      <th></th>\n",
       "      <th>State</th>\n",
       "      <th>TotalPop</th>\n",
       "      <th>Income</th>\n",
       "      <th>MalePop</th>\n",
       "      <th>FemalePop</th>\n",
       "    </tr>\n",
       "  </thead>\n",
       "  <tbody>\n",
       "    <tr>\n",
       "      <th>0</th>\n",
       "      <td>Alabama</td>\n",
       "      <td>4830620</td>\n",
       "      <td>43296.358603</td>\n",
       "      <td>2341093</td>\n",
       "      <td>2489527</td>\n",
       "    </tr>\n",
       "    <tr>\n",
       "      <th>1</th>\n",
       "      <td>Alaska</td>\n",
       "      <td>733375</td>\n",
       "      <td>70354.743902</td>\n",
       "      <td>384160</td>\n",
       "      <td>349215</td>\n",
       "    </tr>\n",
       "    <tr>\n",
       "      <th>2</th>\n",
       "      <td>Arizona</td>\n",
       "      <td>6641928</td>\n",
       "      <td>54207.820955</td>\n",
       "      <td>3299088</td>\n",
       "      <td>3342840</td>\n",
       "    </tr>\n",
       "    <tr>\n",
       "      <th>3</th>\n",
       "      <td>Arkansas</td>\n",
       "      <td>2958208</td>\n",
       "      <td>41935.633968</td>\n",
       "      <td>1451913</td>\n",
       "      <td>1506295</td>\n",
       "    </tr>\n",
       "    <tr>\n",
       "      <th>4</th>\n",
       "      <td>California</td>\n",
       "      <td>38421464</td>\n",
       "      <td>67264.782303</td>\n",
       "      <td>19087135</td>\n",
       "      <td>19334329</td>\n",
       "    </tr>\n",
       "    <tr>\n",
       "      <th>5</th>\n",
       "      <td>Colorado</td>\n",
       "      <td>5278906</td>\n",
       "      <td>64657.801787</td>\n",
       "      <td>2648667</td>\n",
       "      <td>2630239</td>\n",
       "    </tr>\n",
       "    <tr>\n",
       "      <th>6</th>\n",
       "      <td>Connecticut</td>\n",
       "      <td>3593222</td>\n",
       "      <td>76146.560588</td>\n",
       "      <td>1751607</td>\n",
       "      <td>1841615</td>\n",
       "    </tr>\n",
       "    <tr>\n",
       "      <th>7</th>\n",
       "      <td>Delaware</td>\n",
       "      <td>926454</td>\n",
       "      <td>61827.976636</td>\n",
       "      <td>448413</td>\n",
       "      <td>478041</td>\n",
       "    </tr>\n",
       "    <tr>\n",
       "      <th>8</th>\n",
       "      <td>District of Columbia</td>\n",
       "      <td>647484</td>\n",
       "      <td>75466.363636</td>\n",
       "      <td>306674</td>\n",
       "      <td>340810</td>\n",
       "    </tr>\n",
       "    <tr>\n",
       "      <th>9</th>\n",
       "      <td>Florida</td>\n",
       "      <td>19645772</td>\n",
       "      <td>50690.194987</td>\n",
       "      <td>9600009</td>\n",
       "      <td>10045763</td>\n",
       "    </tr>\n",
       "  </tbody>\n",
       "</table>\n",
       "</div>"
      ],
      "text/plain": [
       "                  State  TotalPop        Income   MalePop  FemalePop\n",
       "0               Alabama   4830620  43296.358603   2341093    2489527\n",
       "1                Alaska    733375  70354.743902    384160     349215\n",
       "2               Arizona   6641928  54207.820955   3299088    3342840\n",
       "3              Arkansas   2958208  41935.633968   1451913    1506295\n",
       "4            California  38421464  67264.782303  19087135   19334329\n",
       "5              Colorado   5278906  64657.801787   2648667    2630239\n",
       "6           Connecticut   3593222  76146.560588   1751607    1841615\n",
       "7              Delaware    926454  61827.976636    448413     478041\n",
       "8  District of Columbia    647484  75466.363636    306674     340810\n",
       "9               Florida  19645772  50690.194987   9600009   10045763"
      ]
     },
     "execution_count": 16,
     "metadata": {},
     "output_type": "execute_result"
    }
   ],
   "source": [
    "us_census = us_census.drop_duplicates(subset='State').reset_index()\n",
    "us_census[['State', 'TotalPop', 'Income', 'MalePop', 'FemalePop']].head(10)"
   ]
  },
  {
   "cell_type": "markdown",
   "id": "5e37d19e",
   "metadata": {},
   "source": [
    "## Plotting the data\n",
    "After all that cleaning and organizing, we can finally create the scatterplot."
   ]
  },
  {
   "cell_type": "code",
   "execution_count": 17,
   "id": "ab0ccd6e",
   "metadata": {},
   "outputs": [
    {
     "data": {
      "image/png": "[encoded data removed]",
      "text/plain": [
       "<Figure size 432x288 with 1 Axes>"
      ]
     },
     "metadata": {
      "needs_background": "light"
     },
     "output_type": "display_data"
    }
   ],
   "source": [
    "plt.scatter(us_census['FemalePop'], us_census['Income'])\n",
    "plt.show()"
   ]
  },
  {
   "cell_type": "markdown",
   "id": "3fb8f09f",
   "metadata": {},
   "source": [
    "## Histogram for race data\n",
    "We'll now be working with race data, we'll be selecting those columns whenever we print the table from now on since we no longer need to visualize **Income**, **TotalPop**, **MalePop** or **FemalePop**. Let's check the data and see what it looks like."
   ]
  },
  {
   "cell_type": "code",
   "execution_count": 18,
   "id": "248d3d42",
   "metadata": {},
   "outputs": [
    {
     "data": {
      "text/html": [
       "<div>\n",
       "<style scoped>\n",
       "    .dataframe tbody tr th:only-of-type {\n",
       "        vertical-align: middle;\n",
       "    }\n",
       "\n",
       "    .dataframe tbody tr th {\n",
       "        vertical-align: top;\n",
       "    }\n",
       "\n",
       "    .dataframe thead th {\n",
       "        text-align: right;\n",
       "    }\n",
       "</style>\n",
       "<table border=\"1\" class=\"dataframe\">\n",
       "  <thead>\n",
       "    <tr style=\"text-align: right;\">\n",
       "      <th></th>\n",
       "      <th>State</th>\n",
       "      <th>Hispanic</th>\n",
       "      <th>White</th>\n",
       "      <th>Black</th>\n",
       "      <th>Native</th>\n",
       "      <th>Asian</th>\n",
       "      <th>Pacific</th>\n",
       "    </tr>\n",
       "  </thead>\n",
       "  <tbody>\n",
       "    <tr>\n",
       "      <th>0</th>\n",
       "      <td>Alabama</td>\n",
       "      <td>3.7516156462584975%</td>\n",
       "      <td>61.878656462585%</td>\n",
       "      <td>31.25297619047618%</td>\n",
       "      <td>0.4532312925170065%</td>\n",
       "      <td>1.0502551020408146%</td>\n",
       "      <td>0.03435374149659865%</td>\n",
       "    </tr>\n",
       "    <tr>\n",
       "      <th>1</th>\n",
       "      <td>Alaska</td>\n",
       "      <td>5.909580838323351%</td>\n",
       "      <td>60.910179640718574%</td>\n",
       "      <td>2.8485029940119775%</td>\n",
       "      <td>16.39101796407186%</td>\n",
       "      <td>5.450299401197604%</td>\n",
       "      <td>1.0586826347305378%</td>\n",
       "    </tr>\n",
       "    <tr>\n",
       "      <th>2</th>\n",
       "      <td>Arizona</td>\n",
       "      <td>29.565921052631502%</td>\n",
       "      <td>57.120000000000026%</td>\n",
       "      <td>3.8509868421052658%</td>\n",
       "      <td>4.35506578947368%</td>\n",
       "      <td>2.876578947368419%</td>\n",
       "      <td>0.16763157894736833%</td>\n",
       "    </tr>\n",
       "    <tr>\n",
       "      <th>3</th>\n",
       "      <td>Arkansas</td>\n",
       "      <td>6.215474452554738%</td>\n",
       "      <td>71.13781021897813%</td>\n",
       "      <td>18.968759124087573%</td>\n",
       "      <td>0.5229197080291965%</td>\n",
       "      <td>1.1423357664233578%</td>\n",
       "      <td>0.14686131386861315%</td>\n",
       "    </tr>\n",
       "    <tr>\n",
       "      <th>4</th>\n",
       "      <td>California</td>\n",
       "      <td>37.291874687968054%</td>\n",
       "      <td>40.21578881677474%</td>\n",
       "      <td>5.677396405391911%</td>\n",
       "      <td>0.40529206190713685%</td>\n",
       "      <td>13.052234148776776%</td>\n",
       "      <td>0.35141038442336353%</td>\n",
       "    </tr>\n",
       "  </tbody>\n",
       "</table>\n",
       "</div>"
      ],
      "text/plain": [
       "        State             Hispanic                White                Black  \\\n",
       "0     Alabama  3.7516156462584975%     61.878656462585%   31.25297619047618%   \n",
       "1      Alaska   5.909580838323351%  60.910179640718574%  2.8485029940119775%   \n",
       "2     Arizona  29.565921052631502%  57.120000000000026%  3.8509868421052658%   \n",
       "3    Arkansas   6.215474452554738%   71.13781021897813%  18.968759124087573%   \n",
       "4  California  37.291874687968054%   40.21578881677474%   5.677396405391911%   \n",
       "\n",
       "                 Native                Asian               Pacific  \n",
       "0   0.4532312925170065%  1.0502551020408146%  0.03435374149659865%  \n",
       "1    16.39101796407186%   5.450299401197604%   1.0586826347305378%  \n",
       "2     4.35506578947368%   2.876578947368419%  0.16763157894736833%  \n",
       "3   0.5229197080291965%  1.1423357664233578%  0.14686131386861315%  \n",
       "4  0.40529206190713685%  13.052234148776776%  0.35141038442336353%  "
      ]
     },
     "execution_count": 18,
     "metadata": {},
     "output_type": "execute_result"
    }
   ],
   "source": [
    "us_census[['State', 'Hispanic', 'White', 'Black', 'Native', 'Asian', 'Pacific']].head()"
   ]
  },
  {
   "cell_type": "markdown",
   "id": "c511db61",
   "metadata": {},
   "source": [
    "Here we have percentages, but they include a percent sign, which we'll have to remove in order to turn these columns into numeric values. We'll be using a very similar process to the one we used before, and a little regex to clean these values. First we'll define a list of the races in this DataFrame, which we'll iterate through later."
   ]
  },
  {
   "cell_type": "code",
   "execution_count": 19,
   "id": "e2655e3f",
   "metadata": {},
   "outputs": [],
   "source": [
    "races = ['Hispanic', 'White', 'Black', 'Native', 'Asian', 'Pacific']"
   ]
  },
  {
   "cell_type": "markdown",
   "id": "d7620be2",
   "metadata": {},
   "source": [
    "Now let's loop through them to remove the percent sign, and let's take that opportunity to check for null values, as well."
   ]
  },
  {
   "cell_type": "code",
   "execution_count": 20,
   "id": "f44e466d",
   "metadata": {},
   "outputs": [
    {
     "name": "stdout",
     "output_type": "stream",
     "text": [
      "False    51\n",
      "Name: Hispanic, dtype: int64\n",
      "False    51\n",
      "Name: White, dtype: int64\n",
      "False    51\n",
      "Name: Black, dtype: int64\n",
      "False    51\n",
      "Name: Native, dtype: int64\n",
      "False    51\n",
      "Name: Asian, dtype: int64\n",
      "False    47\n",
      "True      4\n",
      "Name: Pacific, dtype: int64\n"
     ]
    }
   ],
   "source": [
    "for race in races:\n",
    "    us_census[race] = pd.to_numeric(us_census[race].str.replace('[\\%]$', '', regex=True))\n",
    "    print(us_census[race].isnull().value_counts())"
   ]
  },
  {
   "cell_type": "markdown",
   "id": "6bb45b90",
   "metadata": {},
   "source": [
    "It seems that our dataset is mostly complete, there's 4 missing values in the **Pacific** column. We can apply a similar solution as before. This time, we're working with a percent of population, and since all other race data is complete, all we need to do is add together all the non-Pacific values, and subtract them from 100. "
   ]
  },
  {
   "cell_type": "code",
   "execution_count": 22,
   "id": "30f5b000",
   "metadata": {},
   "outputs": [],
   "source": [
    "us_census.fillna(value={'Pacific' : 100 - (us_census['Hispanic'] + \n",
    "                                           us_census['White'] + us_census['Black'] + \n",
    "                                           us_census['Native'] + us_census['Asian'])}, inplace=True)"
   ]
  },
  {
   "cell_type": "code",
   "execution_count": 23,
   "id": "e4763612",
   "metadata": {},
   "outputs": [
    {
     "data": {
      "text/plain": [
       "False    51\n",
       "Name: Pacific, dtype: int64"
      ]
     },
     "execution_count": 23,
     "metadata": {},
     "output_type": "execute_result"
    }
   ],
   "source": [
    "us_census['Pacific'].isnull().value_counts()"
   ]
  },
  {
   "cell_type": "markdown",
   "id": "6a4dc4d3",
   "metadata": {},
   "source": [
    "Great! No more `null` values in our Pacific column. Our data is now clean and can now use a for loop once more to iterate through our `races` list and create our histograms! The following code iterates through the list, creates a histogram, and applies the appropriate labels to the axes, as well as a title that describes the histogram."
   ]
  },
  {
   "cell_type": "markdown",
   "id": "ad0f136a",
   "metadata": {},
   "source": [
    "## Plotting histograms for race data"
   ]
  },
  {
   "cell_type": "code",
   "execution_count": 26,
   "id": "65b72189",
   "metadata": {},
   "outputs": [
    {
     "data": {
      "image/png": "[encoded data removed]",
      "text/plain": [
       "<Figure size 432x288 with 1 Axes>"
      ]
     },
     "metadata": {
      "needs_background": "light"
     },
     "output_type": "display_data"
    },
    {
     "data": {
      "image/png": "[encoded data removed]",
      "text/plain": [
       "<Figure size 432x288 with 1 Axes>"
      ]
     },
     "metadata": {
      "needs_background": "light"
     },
     "output_type": "display_data"
    },
    {
     "data": {
      "image/png": "[encoded data removed]",
      "text/plain": [
       "<Figure size 432x288 with 1 Axes>"
      ]
     },
     "metadata": {
      "needs_background": "light"
     },
     "output_type": "display_data"
    },
    {
     "data": {
      "image/png": "[encoded data removed]",
      "text/plain": [
       "<Figure size 432x288 with 1 Axes>"
      ]
     },
     "metadata": {
      "needs_background": "light"
     },
     "output_type": "display_data"
    },
    {
     "data": {
      "image/png": "[encoded data removed]",
      "text/plain": [
       "<Figure size 432x288 with 1 Axes>"
      ]
     },
     "metadata": {
      "needs_background": "light"
     },
     "output_type": "display_data"
    },
    {
     "data": {
      "image/png": "[encoded data removed]",
      "text/plain": [
       "<Figure size 432x288 with 1 Axes>"
      ]
     },
     "metadata": {
      "needs_background": "light"
     },
     "output_type": "display_data"
    }
   ],
   "source": [
    "for race in races:\n",
    "  plt.hist(us_census[race])\n",
    "  plt.title(race)\n",
    "  plt.xlabel('Percentage')\n",
    "  plt.ylabel('Frequency')\n",
    "  plt.show()"
   ]
  },
  {
   "cell_type": "code",
   "execution_count": null,
   "id": "dd216913",
   "metadata": {},
   "outputs": [],
   "source": []
  }
 ],
 "metadata": {
  "kernelspec": {
   "display_name": "Python 3",
   "language": "python",
   "name": "python3"
  },
  "language_info": {
   "codemirror_mode": {
    "name": "ipython",
    "version": 3
   },
   "file_extension": ".py",
   "mimetype": "text/x-python",
   "name": "python",
   "nbconvert_exporter": "python",
   "pygments_lexer": "ipython3",
   "version": "3.8.8"
  }
 },
 "nbformat": 4,
 "nbformat_minor": 5
}
